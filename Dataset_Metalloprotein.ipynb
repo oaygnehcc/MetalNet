{
  "nbformat": 4,
  "nbformat_minor": 0,
  "metadata": {
    "colab": {
      "name": "Dataset_Metalloprotein.ipynb",
      "version": "0.3.2",
      "provenance": [],
      "private_outputs": true,
      "collapsed_sections": [],
      "toc_visible": true,
      "include_colab_link": true
    },
    "kernelspec": {
      "name": "python3",
      "display_name": "Python 3"
    }
  },
  "cells": [
    {
      "cell_type": "markdown",
      "metadata": {
        "id": "view-in-github",
        "colab_type": "text"
      },
      "source": [
        "<a href=\"https://colab.research.google.com/github/whbpt/MetalNet/blob/master/Dataset_Metalloprotein.ipynb\" target=\"_parent\"><img src=\"https://colab.research.google.com/assets/colab-badge.svg\" alt=\"Open In Colab\"/></a>"
      ]
    },
    {
      "cell_type": "markdown",
      "metadata": {
        "id": "pXwqwAapYMTf",
        "colab_type": "text"
      },
      "source": [
        "#  Dataset_Metalloprotein\n",
        "Integrating all the informations contains protein coevolution information from bakerlab, and metal binding sites from PDB together."
      ]
    },
    {
      "cell_type": "code",
      "metadata": {
        "id": "BpOG5ALNUZPZ",
        "colab_type": "code",
        "colab": {}
      },
      "source": [
        "##load google drive\n",
        "from google.colab import drive\n",
        "drive.mount('/gdrive')\n",
        "%cd /gdrive/My\\ Drive"
      ],
      "execution_count": 0,
      "outputs": []
    },
    {
      "cell_type": "code",
      "metadata": {
        "id": "_y1pdh9cyiL0",
        "colab_type": "code",
        "colab": {}
      },
      "source": [
        "import os\n",
        "# requests for fetching html of website\n",
        "import requests\n",
        "from pathlib import Path\n",
        "import numpy as np\n",
        "import matplotlib.pyplot as plt\n",
        "import pandas as pd\n",
        "from scipy import stats\n",
        "import tensorflow as tf\n",
        "from scipy.spatial.distance import pdist,squareform\n",
        "import pickle\n",
        "from graphviz import Graph\n"
      ],
      "execution_count": 0,
      "outputs": []
    },
    {
      "cell_type": "markdown",
      "metadata": {
        "id": "LMqU3rNQL4sZ",
        "colab_type": "text"
      },
      "source": [
        "## Get PDB dataset from [GREMLIN website](https://gremlin2.bakerlab.org/exceptions.php)\n",
        "\n",
        "it is recycled data from [<Origins of coevolution between residues distant in protein 3D structures>](https://www.pnas.org/content/early/2017/08/03/1702664114)"
      ]
    },
    {
      "cell_type": "code",
      "metadata": {
        "colab_type": "code",
        "id": "kZCiKqtqMKfx",
        "colab": {}
      },
      "source": [
        "%%bash\n",
        "FILE=\"MetalNet_PDB\" # create a project folder\n",
        "if [ ! -d \"$FILE\" ]; then \n",
        "  mkdir $FILE\n",
        "fi"
      ],
      "execution_count": 0,
      "outputs": []
    },
    {
      "cell_type": "code",
      "metadata": {
        "colab_type": "code",
        "id": "M6JwiyClMKf2",
        "colab": {}
      },
      "source": [
        "# check to the default folder\n",
        "cd /gdrive/My\\ Drive/MetalNet_PDB/"
      ],
      "execution_count": 0,
      "outputs": []
    },
    {
      "cell_type": "code",
      "metadata": {
        "id": "XCApFytuMFX2",
        "colab_type": "code",
        "colab": {}
      },
      "source": [
        "%%bash\n",
        "# download the PDB_dataset from gremlin website\n",
        "\n",
        "if [ ! -f dataset_ivan.zip ];then\n",
        "  wget https://gremlin2.bakerlab.org/exceptions/dataset_ivan.zip\n",
        "fi\n",
        "if [ ! -d data ];then\n",
        "  unzip -q dataset_ivan.zip\n",
        "fi"
      ],
      "execution_count": 0,
      "outputs": []
    },
    {
      "cell_type": "markdown",
      "metadata": {
        "id": "-OUaDRZGAtcL",
        "colab_type": "text"
      },
      "source": [
        "- .a3m.gz = original alignment\n",
        "- .aln = positions with > 50% gaps removed\n",
        "- .mtx = L*L matrix (output from gremlin)\n",
        "- .mtx_ref = mapping of aln/mtx length to full sequence length\n",
        "- .pdb = actual 3D protein\n",
        "- .dist = distances extracted for each residue pairs. Typically < 5 we would consider to be a contact, but some people are more generious set to ~6"
      ]
    },
    {
      "cell_type": "markdown",
      "metadata": {
        "id": "jc0a5LM-Rn-G",
        "colab_type": "text"
      },
      "source": [
        "## Metals"
      ]
    },
    {
      "cell_type": "markdown",
      "metadata": {
        "id": "Fv1S92tUdhpq",
        "colab_type": "text"
      },
      "source": [
        "### downloading PDB files from website\n",
        "extracts the coordinates of each metal present filters thru each residue -- only residues that are <2.5 A from the metal (for each coordinate) are considered for the selected residues, calculate the distance between it and the metal only residues that are < 2.5 A total are kept append the residues that are < 2.5 A away from a specific metal to a single list gather the multiple lists (one list for each metal) make dict where protein name => (list of metal names, lists of associated residues)\n"
      ]
    },
    {
      "cell_type": "code",
      "metadata": {
        "id": "0i-_SNcXi0Wq",
        "colab_type": "code",
        "colab": {}
      },
      "source": [
        "def get_path(PDB_name,appendix,mode=0,remove_slash=True):\n",
        "  '''model == 0 : data file\n",
        "     model == 1 : the generated pdb_data file, no pollution on data file\n",
        "     in Bash mode, the slash should be kept, because the bash is sensitive to the\n",
        "     space.\n",
        "     in Python mode， the slash should be removed.\n",
        "  '''\n",
        "  if mode ==0:\n",
        "    seq = f\"/gdrive/My\\ Drive/MetalNet_PDB/data/{PDB_name[1:3]}/{PDB_name}.{appendix}\"\n",
        "  else :\n",
        "    seq = f\"/gdrive/My\\ Drive/MetalNet_PDB/pdb_data/{PDB_name[1:3]}/{PDB_name}.{appendix}\"\n",
        "  if remove_slash == True:\n",
        "    seq = seq.replace(\"\\\\\",\"\")\n",
        "  return seq"
      ],
      "execution_count": 0,
      "outputs": []
    },
    {
      "cell_type": "code",
      "metadata": {
        "id": "Qf69W0QDDfpS",
        "colab_type": "code",
        "colab": {}
      },
      "source": [
        "# this metal dict only extracts residues that are next to the metal in a biological unit\n",
        "pdb_list = pd.read_csv(\"list\",header=None,sep=\" \")\n",
        "PDB_names = np.array(pdb_list)[:,0]\n",
        "count = 0"
      ],
      "execution_count": 0,
      "outputs": []
    },
    {
      "cell_type": "code",
      "metadata": {
        "id": "EUDPECABgzoq",
        "colab_type": "code",
        "colab": {}
      },
      "source": [
        "%%bash\n",
        "FILE=\"pdb_data\"\n",
        "if [ ! -d \"$FILE\" ]; then \n",
        "  mkdir $FILE\n",
        "fi"
      ],
      "execution_count": 0,
      "outputs": []
    },
    {
      "cell_type": "code",
      "metadata": {
        "id": "YqatUvvneI4o",
        "colab_type": "code",
        "colab": {}
      },
      "source": [
        "### \n",
        "last_count = count\n",
        "for PDB_name in PDB_names[last_count:]:\n",
        "  folder_path = get_path(PDB_name,\"\",1)[0:-1]\n",
        "  if os.path.exists(folder_path) == False:\n",
        "    os.system(f\"mkdir {folder_path}\")\n",
        "  pdb_path = get_path(PDB_name,\"pdb\",1)\n",
        "  if os.path.exists(pdb_path) == False:\n",
        "    pdb_path = get_path(PDB_name,\"pdb\",1,remove_slash=False)  \n",
        "    print(\"downloading\")\n",
        "    os.system(f\"wget -nc -O {pdb_path} https://files.rcsb.org/download/{PDB_name[:-1]}.pdb\")\n",
        "  count += 1\n",
        "  if count %100 ==0:\n",
        "    print(count)"
      ],
      "execution_count": 0,
      "outputs": []
    },
    {
      "cell_type": "code",
      "metadata": {
        "id": "9MCvtnzLKKg4",
        "colab_type": "code",
        "colab": {}
      },
      "source": [
        "ls pdb_data/??/*.pdb|wc"
      ],
      "execution_count": 0,
      "outputs": []
    },
    {
      "cell_type": "markdown",
      "metadata": {
        "id": "ktpelPFl65Wb",
        "colab_type": "text"
      },
      "source": [
        "## Collecting labels\n",
        "  \n"
      ]
    },
    {
      "cell_type": "code",
      "metadata": {
        "id": "zb6raXMcozPX",
        "colab_type": "code",
        "colab": {}
      },
      "source": [
        "def get_coord(line):\n",
        "  '''x,y,z'''\n",
        "  return np.array([line[26:38], line[38:46], line[46:54]],dtype=np.float)\n",
        "\n",
        "metal_types = ['ZN', 'CA', 'MG', 'CU', 'FE', 'NI', 'MN', 'SF4', 'FES', 'C1O', 'C2O', 'CUA']\n",
        "hetero_atom = ['O', 'N', 'S'] # acceptable binding atoms in the residues\n",
        "main_chain = ['CA', 'O', 'N', 'C']"
      ],
      "execution_count": 0,
      "outputs": []
    },
    {
      "cell_type": "code",
      "metadata": {
        "id": "qCPNPYCDwk4S",
        "colab_type": "code",
        "colab": {}
      },
      "source": [
        "PDB_metal_dict = {} # input is protein name; output is [[metal names],[related residues]]\n",
        "dist_cutoff = 3 # Angstrom\n",
        "file_name = \"PDB_metal_dict.pkl\"\n",
        "redo_flag = False\n",
        "if os.path.exists(file_name)==False or redo_flag == True:\n",
        "  for count,PDB_name in enumerate(PDB_names[:-1]): # last element is a weird symbol (not a protein name!)\n",
        "    PDB_chain = PDB_name[-1]\n",
        "    if count%100==0:\n",
        "      print(count)\n",
        "\n",
        "    metal_coord = []\n",
        "    resi_nums = []\n",
        "    current_metals = [] # metal residue numbers that have already been recorded\n",
        "    HETATMs = os.popen(f\"grep ^HETATM {get_path(PDB_name, 'pdb',1,remove_slash = False)}\").readlines()\n",
        "    if len(HETATMs) >0:\n",
        "      for line in HETATMs:\n",
        "        if line[20:22].strip()==PDB_chain:\n",
        "          metal_type = line[16:20].strip()\n",
        "          if metal_type in metal_types:\n",
        "            metal_name = line[22:26].strip()+\"_\"+metal_type\n",
        "            if metal_name in current_metals:\n",
        "              metal_coord[-1].append(get_coord(line))\n",
        "            else:\n",
        "              metal_coord.append([get_coord(line)])\n",
        "              current_metals.append(metal_name)\n",
        "      #print(current_metals,metal_coord)        \n",
        "      assert len(current_metals) == len(metal_coord)\n",
        "      fake_PDB = open(get_path(PDB_name, 'pdb'), 'r')\n",
        "\n",
        "      for i in range(len(current_metals)):\n",
        "        residues = set()\n",
        "        for j in range(len(metal_coord[i])):\n",
        "          for line in fake_PDB.readlines():\n",
        "            if line[:4] == 'ATOM' and (line[13:17].strip() not in main_chain):\n",
        "              resi_num = int(line[22:26].strip())\n",
        "              atom_coord = get_coord(line)\n",
        "              diff = atom_coord - metal_coord[i][j]      \n",
        "              if np.sqrt(np.sum(np.square(diff))) < dist_cutoff:\n",
        "                residues.add(resi_num)\n",
        "\n",
        "        resi_nums.append(residues)\n",
        "      assert len(resi_nums) == len(current_metals)\n",
        "      metal = []\n",
        "      resi = []\n",
        "      for i in range(len(current_metals)):\n",
        "        if len(resi_nums[i]) >= 3:\n",
        "          metal.append(current_metals[i])\n",
        "          resi.append(resi_nums[i])\n",
        "      if len(metal)>0 :\n",
        "        PDB_metal_dict[PDB_name] = [metal, resi]    \n",
        "        print(PDB_name,metal,resi)\n",
        "      fake_PDB.close()\n",
        "  fileObject = open(file_name,'wb') # write as binary\n",
        "  pickle.dump(PDB_metal_dict,fileObject)\n",
        "  fileObject.close()\n",
        "else:\n",
        "  PDB_metal_dict = pickle.load(open(file_name,'rb'))"
      ],
      "execution_count": 0,
      "outputs": []
    },
    {
      "cell_type": "code",
      "metadata": {
        "id": "FIjEZGSqKVDT",
        "colab_type": "code",
        "colab": {}
      },
      "source": [
        "len(PDB_metal_dict)"
      ],
      "execution_count": 0,
      "outputs": []
    },
    {
      "cell_type": "markdown",
      "metadata": {
        "colab_type": "text",
        "id": "f5qfzuH3gqxh"
      },
      "source": [
        "## MSA similarity filter\n",
        "  remove similar MSA by hhsuite, to reduce overfitting problems in training set\n",
        " \n",
        "### method\n",
        "   For each msa you need to first create an HMM. Since we need to do HMM-HMM alignment, for this we can use the HHsuite. I would recommend using version 2 (i had some issues with version 3... I suspect it might have some bugs).\n",
        "\n",
        "You can download a pre-compiled version here:\n",
        "http://wwwuser.gwdg.de/~compbiol/data/hhsuite/releases/all/hhsuite-2.0.16-linux-x86_64.tar.gz\n",
        "\n",
        "warning: Since there are two software that make hmm(s) for sequence search (hmmer and hhsuite), and the formats are different. When making hmm(s) for hmmer we use extension of *.hmm, for hhsuite we use *.hhm. \n",
        "\n",
        "To make hmm(s) for hhsuite\n",
        "hhmake -i ID.fas -o ID.hhm\n",
        "\n",
        "then do (to concatenate all hhms into a single file)\n",
        "cat ../*.hhm >  ALL.hhm\n",
        "\n",
        "hhsearch -cpu 20 -v 0 -alt 1 -i ID.hhm -d ALL.hhm -o /dev/null -scores ID.sco\n",
        "\n",
        "I typically copy the ALL.hhm to /dev/shm, which tends to speed up the search (since it's being read from memory).\n",
        "\n",
        "### cutoff recommendation\n",
        "\n",
        "- LOG-EVAL< 0  means totally random\n",
        "- LOG-EVAL > 3  means same fold (Pfam)\n",
        "- LOG-EVAL > 20  means same function\n",
        "- LOG-EVAL > 80  means same [orthology](https://en.wikipedia.org/wiki/Sequence_homology#Orthology) (two copies in the same species)"
      ]
    },
    {
      "cell_type": "code",
      "metadata": {
        "colab_type": "code",
        "id": "nf9u3j7cgqxh",
        "colab": {}
      },
      "source": [
        "# check to the default folder\n",
        "cd /gdrive/My\\ Drive/MetalNet_PDB/"
      ],
      "execution_count": 0,
      "outputs": []
    },
    {
      "cell_type": "code",
      "metadata": {
        "colab_type": "code",
        "id": "Gv81d0tkgqxi",
        "colab": {}
      },
      "source": [
        "##download the hhsuite\n",
        "%%bash\n",
        "FILE=\"hhsuite-2.0.16-linux-x86_64/\"\n",
        "if [ ! -d \"$FILE\" ]; then \n",
        "  wget -q -nc http://wwwuser.gwdg.de/~compbiol/data/hhsuite/releases/all/hhsuite-2.0.16-linux-x86_64.tar.gz\n",
        "  tar -xzf hhsuite-2.0.16-linux-x86_64.tar.gz\n",
        "  rm hhsuite-2.0.16-linux-x86_64.tar.gz\n",
        "  chmod +x /gdrive/My\\ Drive/MetalNet_PDB/hhsuite-2.0.16-linux-x86_64/bin/*\n",
        "  fi"
      ],
      "execution_count": 0,
      "outputs": []
    },
    {
      "cell_type": "code",
      "metadata": {
        "id": "Vk_Nmub0N8SP",
        "colab_type": "code",
        "colab": {}
      },
      "source": [
        "fileObject = open(\"metal_list\",'w')\n",
        "fileObject.write(\"\\n\".join(list(PDB_metal_dict.keys())))\n",
        "fileObject.close()"
      ],
      "execution_count": 0,
      "outputs": []
    },
    {
      "cell_type": "code",
      "metadata": {
        "colab_type": "code",
        "id": "hoyGCtwUgqxu",
        "colab": {}
      },
      "source": [
        "%%bash\n",
        "export HHLIB=/gdrive/My\\ Drive/MetalNet_PDB/hhsuite-2.0.16-linux-x86_64\n",
        "for gene in `cat metal_list`;do\n",
        "  export folder=`echo $gene|cut -c 2-3`\n",
        "  export input1=\"data/$folder/$gene.a3m.gz\"\n",
        "  export output1=\"pdb_data/$folder/$gene.a3m\"\n",
        "  export output2=\"pdb_data/$folder/$gene.hhm\"\n",
        "  if [ ! -f $output2 ];then\n",
        "    gunzip -c $input1 > $output1\n",
        "    /gdrive/My\\ Drive/MetalNet_PDB/hhsuite-2.0.16-linux-x86_64/bin/hhmake -i $output1 -o $output2\n",
        "  fi\n",
        "done"
      ],
      "execution_count": 0,
      "outputs": []
    },
    {
      "cell_type": "code",
      "metadata": {
        "id": "qIU9GcAFnbxC",
        "colab_type": "code",
        "colab": {}
      },
      "source": [
        "!ls pdb_data/??/*.hhm|wc"
      ],
      "execution_count": 0,
      "outputs": []
    },
    {
      "cell_type": "code",
      "metadata": {
        "colab_type": "code",
        "id": "fv0bl58mgqxy",
        "colab": {}
      },
      "source": [
        "%%bash\n",
        "if [ ! -f \"pdb_data/all.hhm\" ];then\n",
        "  cat pdb_data/??/*.hhm >>pdb_data/all.hhm\n",
        "fi"
      ],
      "execution_count": 0,
      "outputs": []
    },
    {
      "cell_type": "code",
      "metadata": {
        "colab_type": "code",
        "id": "CseZDlRUgqx0",
        "colab": {}
      },
      "source": [
        "%%bash\n",
        "export HHLIB=/gdrive/My\\ Drive/MetalNet_PDB/hhsuite-2.0.16-linux-x86_64\n",
        "for gene in `cat metal_list`;do\n",
        "  export folder=`echo $gene|cut -c 2-3`\n",
        "  export input=\"pdb_data/$folder/$gene.hhm\"\n",
        "  export output=\"pdb_data/$folder/$gene.score\"\n",
        "  if [ ! -f $output ];then\n",
        "    /gdrive/My\\ Drive/MetalNet_PDB/hhsuite-2.0.16-linux-x86_64/bin/hhsearch -cpu 20 -v 0 -alt 1 -i $input -d pdb_data/all.hhm -o /dev/null -scores $output\n",
        "  fi\n",
        "done"
      ],
      "execution_count": 0,
      "outputs": []
    },
    {
      "cell_type": "code",
      "metadata": {
        "id": "Ef_yaNNIXDa-",
        "colab_type": "code",
        "colab": {}
      },
      "source": [
        "!ls pdb_data/??/*.score|wc"
      ],
      "execution_count": 0,
      "outputs": []
    },
    {
      "cell_type": "code",
      "metadata": {
        "colab_type": "code",
        "id": "IuRch7YGgqx2",
        "colab": {}
      },
      "source": [
        "uniq_pkl = \"uniq.pkl\"\n",
        "if os.path.exists(uniq_pkl) == False: \n",
        "  uniq_set = set()\n",
        "  for PDB_name in PDB_metal_dict.keys():\n",
        "    uniq_set.add(PDB_name)\n",
        "  count = 0\n",
        "  for PDB_name in PDB_metal_dict.keys():\n",
        "    count = count + 1\n",
        "    if count %20==0:\n",
        "      print(count)\n",
        "    try:\n",
        "      \n",
        "      repeat_flag=0\n",
        "      with open(get_path(PDB_name,\"score\",1),'r') as f:\n",
        "        similarity = pd.read_csv(f,header=4,sep=r\"\\s*\")\n",
        "        log_eval = np.array(similarity)[:,-2].astype(np.float)\n",
        "        idx = np.where(log_eval> 20)[0]\n",
        "        if len(idx)>1:\n",
        "          idx = idx[1:]\n",
        "          gene_list =  np.array(similarity)[:,0][idx]\n",
        "          for gene in gene_list:\n",
        "            if (gene in uniq_set) and (repeat_flag)==0:\n",
        "              repeat_flag=1\n",
        "            if repeat_flag==1:\n",
        "              try:\n",
        "                uniq_set.remove(gene)\n",
        "              except:\n",
        "                continue\n",
        "    except OSError:\n",
        "      raise\n",
        "    except:\n",
        "      raise\n",
        "  pickle.dump(uniq_set,open(uniq_pkl,'wb'))\n",
        "else:\n",
        "  uniq_set = pickle.load(open(uniq_pkl,'rb'))"
      ],
      "execution_count": 0,
      "outputs": []
    },
    {
      "cell_type": "code",
      "metadata": {
        "colab_type": "code",
        "id": "V5sJmRW6gqx3",
        "colab": {}
      },
      "source": [
        "len(uniq_set)"
      ],
      "execution_count": 0,
      "outputs": []
    },
    {
      "cell_type": "markdown",
      "metadata": {
        "id": "fRgL6_4ON_4k",
        "colab_type": "text"
      },
      "source": [
        "##Collecting all the information related with metal binding proteins"
      ]
    },
    {
      "cell_type": "code",
      "metadata": {
        "id": "gTGjStCnwmrQ",
        "colab_type": "code",
        "colab": {}
      },
      "source": [
        "##creat a PROTEIN class to store metal binding sites and sequence \n",
        "class PROTEIN:\n",
        "  def __init__(self):\n",
        "    self.metal_dict = {}\n",
        "    self.sequence = str()\n",
        "    self.gene_name = str()\n",
        "    self.gap_dict = {}\n",
        "    self.CHED_seq = str()\n",
        "    self.CHED_dict = {}\n",
        "    self.metal_mask = []\n",
        "    self.metal_seq = []\n",
        "    self.GREMLIN_CM = []"
      ],
      "execution_count": 0,
      "outputs": []
    },
    {
      "cell_type": "code",
      "metadata": {
        "id": "2_JChFQMzwNW",
        "colab_type": "code",
        "colab": {}
      },
      "source": [
        "Tome_pkl = \"Tome.pkl\"\n",
        "redo_flag = True\n",
        "if os.path.exists(Tome_pkl) == False or redo_flag == True: \n",
        "  CHED_list = [\"C\",\"H\",\"E\",\"D\"]\n",
        "  metal_sum = 0\n",
        "  Tome_dict = {}\n",
        "  for pdb_count,PDB_ID in enumerate(uniq_set):\n",
        "    if pdb_count%10==0:\n",
        "      print(pdb_count)\n",
        "    Tome_dict.setdefault(PDB_ID,PROTEIN())\n",
        "    Protein = Tome_dict[PDB_ID]\n",
        "    Protein.gene_name = PDB_ID\n",
        "    # the gap has removed in MSA file when fed into GREMLIN,so needs do some alignment\n",
        "    ref_contents = open(get_path(PDB_ID,\"mtx_ref\"),'r').readlines()\n",
        "    pdb_seq = ref_contents[0].strip()\n",
        "    GREMLIN_seq = ref_contents[1].strip()\n",
        "    Protein.sequence = pdb_seq \n",
        "\n",
        "    [metals,sites] = PDB_metal_dict[PDB_ID]\n",
        "\n",
        "    ncol = len(pdb_seq)\n",
        "\n",
        "    # load the CHED mask\n",
        "    CHED_mask = np.zeros(ncol)\n",
        "    for i,AA in enumerate(pdb_seq):\n",
        "      if AA in CHED_list:\n",
        "        CHED_mask[i]=1\n",
        "\n",
        "    CHED_idx = np.where(CHED_mask>0)[0]\n",
        "    Protein.CHED_seq = \"\".join(([pdb_seq[AA] for AA in CHED_idx]))\n",
        "    CHED_dict = {key:i for (i,key) in enumerate(CHED_idx)}\n",
        "    Protein.CHED_dict = CHED_dict\n",
        "\n",
        "    CHED_ncol = len(CHED_idx)##a small matrix only with CHED\n",
        "    metal_mask = np.zeros((CHED_ncol,CHED_ncol))\n",
        "\n",
        "    for i,metal in enumerate(metals):\n",
        "      Protein.metal_dict.setdefault(metal,[])\n",
        "      metal_seq = np.zeros((CHED_ncol))\n",
        "      for site in sites[i]:\n",
        "        AA = pdb_seq[int(site)]\n",
        "        if AA in CHED_list:\n",
        "          site_tag = f\"{site}_{AA}\"\n",
        "          Protein.metal_dict[metal].append(site_tag)\n",
        "          metal_seq[CHED_dict[site]] = 1\n",
        "      metal_mask += metal_seq[None,:] * metal_seq[:,None]\n",
        "    \n",
        "    np.fill_diagonal(metal_mask,0)\n",
        "    Protein.metal_mask = metal_mask\n",
        "    Protein.metal_seq = metal_seq\n",
        "\n",
        "    ### generate gap dictionary to map the alignment\n",
        "    AA_count = 0\n",
        "    gap_dict=dict()\n",
        "    for i,AA in enumerate(GREMLIN_seq):\n",
        "      if AA!=\"-\":\n",
        "        gap_dict[AA_count] = i\n",
        "        AA_count+=1\n",
        "    Protein.gap_dict = gap_dict\n",
        "    \n",
        "    # load the predicted GREMLIN Contact Map    \n",
        "    GREMLIN_CM = np.zeros((CHED_ncol,CHED_ncol))\n",
        "    mtx_file = get_path(PDB_ID,\"mtx\",0)\n",
        "    GREMLIN_result = np.array(pd.read_csv(mtx_file,sep='\\t',header=None))\n",
        "    GREMLIN_result= GREMLIN_result[:,0:-1]\n",
        "    temp = GREMLIN_result.flatten()\n",
        "    cutoff = sorted(temp,reverse=True)[4*ncol]  #top 2L \n",
        "    GREMLIN_result = GREMLIN_result > cutoff\n",
        "\n",
        "    for i in range(GREMLIN_result.shape[0]):\n",
        "      ori_i = gap_dict[i]\n",
        "      if ori_i in CHED_idx:\n",
        "        for j in range(GREMLIN_result.shape[0]):\n",
        "          ori_j = gap_dict[j]\n",
        "          if ori_j in CHED_idx:\n",
        "            GREMLIN_CM[CHED_dict[ori_i],\n",
        "                       CHED_dict[ori_j]] =  GREMLIN_result[i,j]\n",
        "            \n",
        "    np.fill_diagonal(GREMLIN_CM,0)\n",
        "    Protein.GREMLIN_CM = GREMLIN_CM\n",
        "\n",
        "\n",
        "\n",
        "  # remove those \n",
        "  temp = list(Tome_dict.keys())\n",
        "  for gene in temp:\n",
        "    metal_dict = Tome_dict[gene].metal_dict\n",
        "    temp2 = list(metal_dict.keys())\n",
        "    for metal in temp2:\n",
        "      if len(metal_dict[metal])<3:\n",
        "        metal_dict.pop(metal)\n",
        "    if len(metal_dict)==0:\n",
        "      Tome_dict.pop(gene)\n",
        "      \n",
        "  pickle.dump(Tome_dict,open(Tome_pkl,'wb'))\n",
        "else:\n",
        "  Tome_dict = pickle.load(open(Tome_pkl,'rb'))"
      ],
      "execution_count": 0,
      "outputs": []
    }
  ]
}